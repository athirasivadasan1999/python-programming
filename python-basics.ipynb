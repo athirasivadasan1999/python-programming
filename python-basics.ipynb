{
 "cells": [
  {
   "cell_type": "code",
   "execution_count": 7,
   "id": "11e430e2",
   "metadata": {},
   "outputs": [
    {
     "name": "stdout",
     "output_type": "stream",
     "text": [
      "python\n",
      "python\n",
      "python\n",
      "\n"
     ]
    }
   ],
   "source": [
    "print(\"python\\n\"*3)"
   ]
  },
  {
   "cell_type": "code",
   "execution_count": 8,
   "id": "a2cffbbe",
   "metadata": {},
   "outputs": [
    {
     "name": "stdout",
     "output_type": "stream",
     "text": [
      "athira 23\n"
     ]
    }
   ],
   "source": [
    "print(\"athira\",23)"
   ]
  },
  {
   "cell_type": "code",
   "execution_count": 9,
   "id": "86e791ac",
   "metadata": {},
   "outputs": [
    {
     "name": "stdout",
     "output_type": "stream",
     "text": [
      "haii all!"
     ]
    }
   ],
   "source": [
    "print(\"haii all\",end='!')"
   ]
  },
  {
   "cell_type": "code",
   "execution_count": 11,
   "id": "76d4d8c8",
   "metadata": {},
   "outputs": [
    {
     "name": "stdout",
     "output_type": "stream",
     "text": [
      "you are healthy!"
     ]
    }
   ],
   "source": [
    "print(\"you are healthy\",end=\"!\")"
   ]
  },
  {
   "cell_type": "code",
   "execution_count": 13,
   "id": "4f8067d6",
   "metadata": {},
   "outputs": [
    {
     "name": "stdout",
     "output_type": "stream",
     "text": [
      "\n",
      " \"welcome\" \n"
     ]
    }
   ],
   "source": [
    "print(\"\\n \\\"welcome\\\" \" )"
   ]
  },
  {
   "cell_type": "code",
   "execution_count": 14,
   "id": "cb4e7920",
   "metadata": {},
   "outputs": [
    {
     "name": "stdout",
     "output_type": "stream",
     "text": [
      "Today is jan 5 2023\n"
     ]
    }
   ],
   "source": [
    "print(\"Today is jan\",5,2023)"
   ]
  },
  {
   "cell_type": "code",
   "execution_count": 16,
   "id": "72b33cee",
   "metadata": {},
   "outputs": [
    {
     "name": "stdout",
     "output_type": "stream",
     "text": [
      "today is 5 2023\n"
     ]
    }
   ],
   "source": [
    "a=\"today is\"\n",
    "b=5\n",
    "c=2023\n",
    "print(a,b,c)"
   ]
  },
  {
   "cell_type": "code",
   "execution_count": 23,
   "id": "51e01a32",
   "metadata": {},
   "outputs": [
    {
     "name": "stdout",
     "output_type": "stream",
     "text": [
      "athira\n",
      "my name is  athira\n",
      "haii athira\n"
     ]
    }
   ],
   "source": [
    "name=\"athira\"\n",
    "print(name)\n",
    "print(\"my name is \", name)\n",
    "print(\"haii \"+\"athira\")"
   ]
  },
  {
   "cell_type": "code",
   "execution_count": 25,
   "id": "92d0d9ca",
   "metadata": {},
   "outputs": [
    {
     "name": "stdout",
     "output_type": "stream",
     "text": [
      "my coding skills!\n",
      "\n",
      "my coding skills?\n",
      "my coding skills.\n"
     ]
    }
   ],
   "source": [
    "x=\"my coding skills\"\n",
    "print(x,end=\"!\\n\")\n",
    "print()\n",
    "print(x,end=\"?\\n\")\n",
    "print(x,end=\".\\n\")"
   ]
  },
  {
   "cell_type": "code",
   "execution_count": 37,
   "id": "f53e2f35",
   "metadata": {},
   "outputs": [
    {
     "name": "stdout",
     "output_type": "stream",
     "text": [
      "xyz with rating 4.9 released in 2023\n",
      "\n",
      "xyz, with rating, 4.9 ,released in 2023\n",
      "\n",
      "<class 'str'> \n",
      " <class 'float'> \n",
      " <class 'int'>\n"
     ]
    }
   ],
   "source": [
    "movie=\"xyz\"\n",
    "rating=4.9\n",
    "year=2023\n",
    "print(movie,\"with rating\",rating,\"released in\",year)\n",
    "print()\n",
    "print(\"{}, with rating, {} ,released in {}\".format(movie,rating,year))\n",
    "\n",
    "print()\n",
    "print(type(movie),\"\\n\",type(rating),\"\\n\",type(year))"
   ]
  },
  {
   "cell_type": "code",
   "execution_count": 39,
   "id": "9b5da650",
   "metadata": {},
   "outputs": [
    {
     "name": "stdout",
     "output_type": "stream",
     "text": [
      "5 <class 'int'>\n",
      "5.0 <class 'float'>\n"
     ]
    }
   ],
   "source": [
    "x=int('5')\n",
    "y=float(x)\n",
    "\n",
    "print(x,type(x))\n",
    "print(y,type(y))\n"
   ]
  },
  {
   "cell_type": "code",
   "execution_count": 42,
   "id": "a0b8c7d1",
   "metadata": {},
   "outputs": [
    {
     "name": "stdout",
     "output_type": "stream",
     "text": [
      "<class 'float'>\n",
      "4 <class 'int'>\n"
     ]
    }
   ],
   "source": [
    "y=4.56\n",
    "z=int(y)\n",
    "print(type(y))\n",
    "print(z,type(z))\n"
   ]
  },
  {
   "cell_type": "code",
   "execution_count": 43,
   "id": "2ae2e0c8",
   "metadata": {},
   "outputs": [
    {
     "name": "stdout",
     "output_type": "stream",
     "text": [
      "(1+0j)\n"
     ]
    }
   ],
   "source": [
    "x=1\n",
    "c=complex(x)\n",
    "print(c)"
   ]
  }
 ],
 "metadata": {
  "kernelspec": {
   "display_name": "Python 3 (ipykernel)",
   "language": "python",
   "name": "python3"
  },
  "language_info": {
   "codemirror_mode": {
    "name": "ipython",
    "version": 3
   },
   "file_extension": ".py",
   "mimetype": "text/x-python",
   "name": "python",
   "nbconvert_exporter": "python",
   "pygments_lexer": "ipython3",
   "version": "3.9.13"
  }
 },
 "nbformat": 4,
 "nbformat_minor": 5
}
